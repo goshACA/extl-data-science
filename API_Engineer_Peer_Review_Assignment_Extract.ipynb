{
 "cells": [
  {
   "cell_type": "markdown",
   "metadata": {},
   "source": [
    "<center>\n",
    "    <img src=\"https://gitlab.com/ibm/skills-network/courses/placeholder101/-/raw/master/labs/module%201/images/IDSNlogo.png\" width=\"300\" alt=\"cognitiveclass.ai logo\"  />\n",
    "</center>\n"
   ]
  },
  {
   "cell_type": "markdown",
   "metadata": {},
   "source": [
    "# Peer Review Assignment - Data Engineer - Extract API Data\n"
   ]
  },
  {
   "cell_type": "markdown",
   "metadata": {},
   "source": [
    "Estimated time needed: **20** minutes\n"
   ]
  },
  {
   "cell_type": "markdown",
   "metadata": {},
   "source": [
    "## Objectives\n",
    "\n",
    "In this part you will:\n",
    "\n",
    "*   Collect exchange rate data using an API\n",
    "*   Store the data as a CSV\n"
   ]
  },
  {
   "cell_type": "markdown",
   "metadata": {},
   "source": [
    "For this lab, we are going to be using Python and several Python libraries. Some of these libraries might be installed in your lab environment or in SN Labs. Others may need to be installed by you. The cells below will install these libraries when executed.\n"
   ]
  },
  {
   "cell_type": "code",
   "execution_count": null,
   "metadata": {},
   "outputs": [],
   "source": [
    "#!pip install pandas\n",
    "#!pip install requests"
   ]
  },
  {
   "cell_type": "markdown",
   "metadata": {},
   "source": [
    "## Imports\n",
    "\n",
    "Import any additional libraries you may need here.\n"
   ]
  },
  {
   "cell_type": "code",
   "execution_count": 1,
   "metadata": {},
   "outputs": [],
   "source": [
    "import requests\n",
    "import pandas as pd"
   ]
  },
  {
   "cell_type": "markdown",
   "metadata": {},
   "source": [
    "## Extract Data Using an API\n"
   ]
  },
  {
   "cell_type": "markdown",
   "metadata": {},
   "source": [
    "Using ExchangeRate-API we will extract currency exchange rate data. Use the below steps to get the access key and to get the data.\n",
    "\n",
    "1.  Open the url : [https://exchangeratesapi.io/](https://exchangeratesapi.io/?utm_medium=Exinfluencer&utm_source=Exinfluencer&utm_content=000026UJ&utm_term=10006555&utm_id=NA-SkillsNetwork-Channel-SkillsNetworkCoursesIBMDeveloperSkillsNetworkPY0221ENSkillsNetwork23455645-2021-01-01) and create a free account.\n",
    "2.  Once the account is created. You will get the Get the Free API key option on the top as shown below:\n",
    "\n",
    "<img src=\"https://cf-courses-data.s3.us.cloud-object-storage.appdomain.cloud/IBMDeveloperSkillsNetwork-PY0221EN-SkillsNetwork/labs/module%206/Final%20Assignment/Images/getapi.png\"/>\n",
    "\n",
    "3.  Copy the API key and use in the url in Question 1.\n"
   ]
  },
  {
   "cell_type": "markdown",
   "metadata": {},
   "source": [
    "### Call the API\n",
    "\n",
    "<b> Question 1</b> Using the `requests` library call the endpoint given above and save the text, remember the first few characters of the output:\n"
   ]
  },
  {
   "cell_type": "code",
   "execution_count": 6,
   "metadata": {},
   "outputs": [],
   "source": [
    "# Write your code here\n",
    "url = \"http://api.exchangeratesapi.io/v1/latest?base=EUR&access_key=348013bfe6952677ac81990865a28de3\"\n",
    "  #Make sure to change ******* to your API key.\n"
   ]
  },
  {
   "cell_type": "markdown",
   "metadata": {},
   "source": [
    "### Save as DataFrame\n",
    "\n",
    "<b> Question 2</b>  Using the data gathered turn it into a `pandas` dataframe. The dataframe should have the Currency as the index and `Rate` as their columns. Make sure to drop unnecessary columns.\n"
   ]
  },
  {
   "cell_type": "code",
   "execution_count": 16,
   "metadata": {},
   "outputs": [
    {
     "data": {
      "text/plain": [
       "'{\"success\":true,\"timestamp\":1634385363,\"base\":\"EUR\",\"date\":\"2021-10-16\",\"rates\":{\"AED\":4.260475,\"AFN\":103.63853,\"ALL\":121.563315,\"AMD\":554.92516,\"ANG\":2.082395,\"AOA\":693.276623,\"ARS\":115.003818,\"AUD\":1.56366,\"AWG\":2.08842,\"AZN\":1.976454,\"BAM\":1.954417,\"BBD\":2.342355,\"BDT\":99.274374,\"BGN\":1.956424,\"BHD\":0.43721,\"BIF\":2316.342568,\"BMD\":1.159911,\"BND\":1.563827,\"BOB\":8.016146,\"BRL\":6.332772,\"BSD\":1.160086,\"BTC\":1.8790699e-5,\"BTN\":86.955092,\"BWP\":12.990941,\"BYN\":2.849839,\"BYR\":22734.258556,\"BZD\":2.338437,\"CAD\":1.435657,\"CDF\":2332.581744,\"CHF\":1.071064,\"CLF\":0.034627,\"CLP\":955.477269,\"CNY\":7.464961,\"COP\":4364.873251,\"CRC\":728.705881,\"CUC\":1.159911,\"CUP\":30.737645,\"CVE\":110.725576,\"CZK\":25.381002,\"DJF\":206.139866,\"DKK\":7.440581,\"DOP\":65.500639,\"DZD\":159.152616,\"EGP\":18.234245,\"ERN\":17.400104,\"ETB\":54.11031,\"EUR\":1,\"FJD\":2.44282,\"FKP\":0.850472,\"GBP\":0.843879,\"GEL\":3.636368,\"GGP\":0.850472,\"GHS\":7.034908,\"GIP\":0.850472,\"GMD\":60.315792,\"GNF\":11251.138575,\"GTQ\":8.976483,\"GYD\":242.484775,\"HKD\":9.021847,\"HNL\":28.098894,\"HRK\":7.508574,\"HTG\":115.433045,\"HUF\":360.019069,\"IDR\":16313.512385,\"ILS\":3.736202,\"IMP\":0.850472,\"INR\":87.033979,\"IQD\":1693.47028,\"IRR\":48948.250973,\"ISK\":149.385405,\"JEP\":0.850472,\"JMD\":174.378607,\"JOD\":0.822423,\"JPY\":132.671222,\"KES\":128.692588,\"KGS\":98.364875,\"KHR\":4732.437902,\"KMF\":492.556716,\"KPW\":1043.919688,\"KRW\":1371.931755,\"KWD\":0.350027,\"KYD\":0.966722,\"KZT\":494.41244,\"LAK\":11748.740451,\"LBP\":1767.636008,\"LKR\":234.335415,\"LRD\":191.907743,\"LSL\":17.062736,\"LTL\":3.424917,\"LVL\":0.701619,\"LYD\":5.278037,\"MAD\":10.504201,\"MDL\":20.071085,\"MGA\":4575.849892,\"MKD\":61.570472,\"MMK\":2221.547171,\"MNT\":3306.819056,\"MOP\":9.295536,\"MRO\":414.088081,\"MUR\":49.939716,\"MVR\":17.921066,\"MWK\":948.231702,\"MXN\":23.592133,\"MYR\":4.822956,\"MZN\":74.037567,\"NAD\":17.056538,\"NGN\":476.573132,\"NIO\":40.771314,\"NOK\":9.755497,\"NPR\":139.126789,\"NZD\":1.643296,\"OMR\":0.446568,\"PAB\":1.160086,\"PEN\":4.562515,\"PGK\":4.094921,\"PHP\":58.819529,\"PKR\":198.581085,\"PLN\":4.568832,\"PYG\":8004.331713,\"QAR\":4.223281,\"RON\":4.949229,\"RSD\":117.495027,\"RUB\":82.33711,\"RWF\":1154.111595,\"SAR\":4.350379,\"SBD\":9.342858,\"SCR\":15.612785,\"SDG\":512.105039,\"SEK\":10.001618,\"SGD\":1.563995,\"SHP\":1.597666,\"SLL\":12300.858147,\"SOS\":677.388505,\"SRD\":24.751929,\"STD\":24007.81897,\"SVC\":10.150915,\"SYP\":1457.975867,\"SZL\":17.056538,\"THB\":38.747416,\"TJS\":13.115815,\"TMT\":4.04809,\"TND\":3.275014,\"TOP\":2.61282,\"TRY\":10.750525,\"TTD\":7.886786,\"TWD\":32.434832,\"TZS\":2673.595592,\"UAH\":30.608864,\"UGX\":4188.072593,\"USD\":1.159911,\"UYU\":50.800101,\"UZS\":12416.849257,\"VEF\":248024059269.22452,\"VND\":26400.157748,\"VUV\":130.253885,\"WST\":2.989083,\"XAF\":655.423665,\"XAG\":0.049751,\"XAU\":0.000656,\"XCD\":3.134718,\"XDR\":0.821432,\"XOF\":654.190275,\"XPF\":119.847863,\"YER\":290.268188,\"ZAR\":16.827458,\"ZMK\":10440.596418,\"ZMW\":19.936736,\"ZWL\":373.490917}}'"
      ]
     },
     "execution_count": 16,
     "metadata": {},
     "output_type": "execute_result"
    }
   ],
   "source": [
    "# Turn the data into a dataframe\n",
    "text = requests.get(url).text\n",
    "text"
   ]
  },
  {
   "cell_type": "code",
   "execution_count": 39,
   "metadata": {},
   "outputs": [
    {
     "data": {
      "text/html": [
       "<div>\n",
       "<style scoped>\n",
       "    .dataframe tbody tr th:only-of-type {\n",
       "        vertical-align: middle;\n",
       "    }\n",
       "\n",
       "    .dataframe tbody tr th {\n",
       "        vertical-align: top;\n",
       "    }\n",
       "\n",
       "    .dataframe thead th {\n",
       "        text-align: right;\n",
       "    }\n",
       "</style>\n",
       "<table border=\"1\" class=\"dataframe\">\n",
       "  <thead>\n",
       "    <tr style=\"text-align: right;\">\n",
       "      <th></th>\n",
       "      <th>success</th>\n",
       "      <th>timestamp</th>\n",
       "      <th>base</th>\n",
       "      <th>date</th>\n",
       "      <th>rates</th>\n",
       "    </tr>\n",
       "  </thead>\n",
       "  <tbody>\n",
       "    <tr>\n",
       "      <th>AED</th>\n",
       "      <td>True</td>\n",
       "      <td>2021-10-16 11:56:03</td>\n",
       "      <td>EUR</td>\n",
       "      <td>2021-10-16</td>\n",
       "      <td>4.260475</td>\n",
       "    </tr>\n",
       "    <tr>\n",
       "      <th>AFN</th>\n",
       "      <td>True</td>\n",
       "      <td>2021-10-16 11:56:03</td>\n",
       "      <td>EUR</td>\n",
       "      <td>2021-10-16</td>\n",
       "      <td>103.638530</td>\n",
       "    </tr>\n",
       "    <tr>\n",
       "      <th>ALL</th>\n",
       "      <td>True</td>\n",
       "      <td>2021-10-16 11:56:03</td>\n",
       "      <td>EUR</td>\n",
       "      <td>2021-10-16</td>\n",
       "      <td>121.563315</td>\n",
       "    </tr>\n",
       "    <tr>\n",
       "      <th>AMD</th>\n",
       "      <td>True</td>\n",
       "      <td>2021-10-16 11:56:03</td>\n",
       "      <td>EUR</td>\n",
       "      <td>2021-10-16</td>\n",
       "      <td>554.925160</td>\n",
       "    </tr>\n",
       "    <tr>\n",
       "      <th>ANG</th>\n",
       "      <td>True</td>\n",
       "      <td>2021-10-16 11:56:03</td>\n",
       "      <td>EUR</td>\n",
       "      <td>2021-10-16</td>\n",
       "      <td>2.082395</td>\n",
       "    </tr>\n",
       "    <tr>\n",
       "      <th>...</th>\n",
       "      <td>...</td>\n",
       "      <td>...</td>\n",
       "      <td>...</td>\n",
       "      <td>...</td>\n",
       "      <td>...</td>\n",
       "    </tr>\n",
       "    <tr>\n",
       "      <th>YER</th>\n",
       "      <td>True</td>\n",
       "      <td>2021-10-16 11:56:03</td>\n",
       "      <td>EUR</td>\n",
       "      <td>2021-10-16</td>\n",
       "      <td>290.268188</td>\n",
       "    </tr>\n",
       "    <tr>\n",
       "      <th>ZAR</th>\n",
       "      <td>True</td>\n",
       "      <td>2021-10-16 11:56:03</td>\n",
       "      <td>EUR</td>\n",
       "      <td>2021-10-16</td>\n",
       "      <td>16.827458</td>\n",
       "    </tr>\n",
       "    <tr>\n",
       "      <th>ZMK</th>\n",
       "      <td>True</td>\n",
       "      <td>2021-10-16 11:56:03</td>\n",
       "      <td>EUR</td>\n",
       "      <td>2021-10-16</td>\n",
       "      <td>10440.596418</td>\n",
       "    </tr>\n",
       "    <tr>\n",
       "      <th>ZMW</th>\n",
       "      <td>True</td>\n",
       "      <td>2021-10-16 11:56:03</td>\n",
       "      <td>EUR</td>\n",
       "      <td>2021-10-16</td>\n",
       "      <td>19.936736</td>\n",
       "    </tr>\n",
       "    <tr>\n",
       "      <th>ZWL</th>\n",
       "      <td>True</td>\n",
       "      <td>2021-10-16 11:56:03</td>\n",
       "      <td>EUR</td>\n",
       "      <td>2021-10-16</td>\n",
       "      <td>373.490917</td>\n",
       "    </tr>\n",
       "  </tbody>\n",
       "</table>\n",
       "<p>168 rows × 5 columns</p>\n",
       "</div>"
      ],
      "text/plain": [
       "     success           timestamp base       date         rates\n",
       "AED     True 2021-10-16 11:56:03  EUR 2021-10-16      4.260475\n",
       "AFN     True 2021-10-16 11:56:03  EUR 2021-10-16    103.638530\n",
       "ALL     True 2021-10-16 11:56:03  EUR 2021-10-16    121.563315\n",
       "AMD     True 2021-10-16 11:56:03  EUR 2021-10-16    554.925160\n",
       "ANG     True 2021-10-16 11:56:03  EUR 2021-10-16      2.082395\n",
       "..       ...                 ...  ...        ...           ...\n",
       "YER     True 2021-10-16 11:56:03  EUR 2021-10-16    290.268188\n",
       "ZAR     True 2021-10-16 11:56:03  EUR 2021-10-16     16.827458\n",
       "ZMK     True 2021-10-16 11:56:03  EUR 2021-10-16  10440.596418\n",
       "ZMW     True 2021-10-16 11:56:03  EUR 2021-10-16     19.936736\n",
       "ZWL     True 2021-10-16 11:56:03  EUR 2021-10-16    373.490917\n",
       "\n",
       "[168 rows x 5 columns]"
      ]
     },
     "execution_count": 39,
     "metadata": {},
     "output_type": "execute_result"
    }
   ],
   "source": [
    "data = pd.read_json(text)\n",
    "data"
   ]
  },
  {
   "cell_type": "code",
   "execution_count": 40,
   "metadata": {},
   "outputs": [],
   "source": [
    "# Drop unnescessary columns\n",
    "data = data.drop(['success', 'timestamp', 'date', 'base'], axis=1)"
   ]
  },
  {
   "cell_type": "markdown",
   "metadata": {},
   "source": [
    "### Load the Data\n",
    "\n",
    "Using the dataframe save it as a CSV names `exchange_rates_1.csv`.\n"
   ]
  },
  {
   "cell_type": "code",
   "execution_count": 44,
   "metadata": {},
   "outputs": [],
   "source": [
    "# Save the Dataframe\n",
    "data.to_csv('exchange_rates_1.csv', index=True)"
   ]
  },
  {
   "cell_type": "markdown",
   "metadata": {},
   "source": [
    "Your CSV should be in this format with more currencies\n",
    "\n",
    "|     | Rates      |\n",
    "| --- | ---------- |\n",
    "| AED | 4.398618   |\n",
    "| AFN | 92.917693  |\n",
    "| ALL | 123.099093 |\n",
    "| AMD | 621.935674 |\n",
    "| ANG | 2.149648   |\n"
   ]
  },
  {
   "cell_type": "markdown",
   "metadata": {},
   "source": [
    "## Authors\n"
   ]
  },
  {
   "cell_type": "markdown",
   "metadata": {},
   "source": [
    "Ramesh Sannareddy, Joseph Santarcangelo and Azim Hirjani\n"
   ]
  },
  {
   "cell_type": "markdown",
   "metadata": {},
   "source": [
    "### Other Contributors\n"
   ]
  },
  {
   "cell_type": "markdown",
   "metadata": {},
   "source": [
    "Rav Ahuja\n"
   ]
  },
  {
   "cell_type": "markdown",
   "metadata": {},
   "source": [
    "## Change Log\n"
   ]
  },
  {
   "cell_type": "markdown",
   "metadata": {},
   "source": [
    "| Date (YYYY-MM-DD) | Version | Changed By        | Change Description                 |\n",
    "| ----------------- | ------- | ----------------- | ---------------------------------- |\n",
    "| 2021-04-15        | 0.2     | Malika            | Updated the lab from USD to EUR    |\n",
    "| 2020-11-25        | 0.1     | Ramesh Sannareddy | Created initial version of the lab |\n"
   ]
  },
  {
   "cell_type": "markdown",
   "metadata": {},
   "source": [
    "Copyright © 2020 IBM Corporation. This notebook and its source code are released under the terms of the [MIT License](https://cognitiveclass.ai/mit-license?utm_medium=Exinfluencer&utm_source=Exinfluencer&utm_content=000026UJ&utm_term=10006555&utm_id=NA-SkillsNetwork-Channel-SkillsNetworkCoursesIBMDeveloperSkillsNetworkPY0221ENSkillsNetwork23455645-2021-01-01&cm_mmc=Email_Newsletter-\\_-Developer_Ed%2BTech-\\_-WW_WW-\\_-SkillsNetwork-Courses-IBM-DA0321EN-SkillsNetwork-21426264&cm_mmca1=000026UJ&cm_mmca2=10006555&cm_mmca3=M12345678&cvosrc=email.Newsletter.M12345678&cvo_campaign=000026UJ).\n"
   ]
  }
 ],
 "metadata": {
  "kernelspec": {
   "display_name": "Python",
   "language": "python",
   "name": "conda-env-python-py"
  },
  "language_info": {
   "codemirror_mode": {
    "name": "ipython",
    "version": 3
   },
   "file_extension": ".py",
   "mimetype": "text/x-python",
   "name": "python",
   "nbconvert_exporter": "python",
   "pygments_lexer": "ipython3",
   "version": "3.7.10"
  }
 },
 "nbformat": 4,
 "nbformat_minor": 4
}
